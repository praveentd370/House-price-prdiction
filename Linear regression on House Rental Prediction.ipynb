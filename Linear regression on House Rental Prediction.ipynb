{
 "cells": [
  {
   "cell_type": "code",
   "execution_count": 76,
   "id": "1117e075",
   "metadata": {},
   "outputs": [],
   "source": [
    "import pandas as pd\n",
    "import numpy as np\n",
    "import matplotlib.pyplot as plt\n",
    "import seaborn as sns\n",
    "import warnings\n",
    "warnings.filterwarnings('ignore')"
   ]
  },
  {
   "cell_type": "code",
   "execution_count": 77,
   "id": "746cb8b2",
   "metadata": {},
   "outputs": [
    {
     "data": {
      "text/html": [
       "<div>\n",
       "<style scoped>\n",
       "    .dataframe tbody tr th:only-of-type {\n",
       "        vertical-align: middle;\n",
       "    }\n",
       "\n",
       "    .dataframe tbody tr th {\n",
       "        vertical-align: top;\n",
       "    }\n",
       "\n",
       "    .dataframe thead th {\n",
       "        text-align: right;\n",
       "    }\n",
       "</style>\n",
       "<table border=\"1\" class=\"dataframe\">\n",
       "  <thead>\n",
       "    <tr style=\"text-align: right;\">\n",
       "      <th></th>\n",
       "      <th>Unnamed: 0</th>\n",
       "      <th>Sqft</th>\n",
       "      <th>Floor</th>\n",
       "      <th>TotalFloor</th>\n",
       "      <th>Bedroom</th>\n",
       "      <th>Living.Room</th>\n",
       "      <th>Bathroom</th>\n",
       "      <th>Price</th>\n",
       "    </tr>\n",
       "  </thead>\n",
       "  <tbody>\n",
       "    <tr>\n",
       "      <th>0</th>\n",
       "      <td>1</td>\n",
       "      <td>1177.698</td>\n",
       "      <td>2</td>\n",
       "      <td>7</td>\n",
       "      <td>2</td>\n",
       "      <td>2</td>\n",
       "      <td>2</td>\n",
       "      <td>62000</td>\n",
       "    </tr>\n",
       "    <tr>\n",
       "      <th>1</th>\n",
       "      <td>2</td>\n",
       "      <td>2134.800</td>\n",
       "      <td>5</td>\n",
       "      <td>7</td>\n",
       "      <td>4</td>\n",
       "      <td>2</td>\n",
       "      <td>2</td>\n",
       "      <td>78000</td>\n",
       "    </tr>\n",
       "    <tr>\n",
       "      <th>2</th>\n",
       "      <td>3</td>\n",
       "      <td>1138.560</td>\n",
       "      <td>5</td>\n",
       "      <td>7</td>\n",
       "      <td>2</td>\n",
       "      <td>2</td>\n",
       "      <td>1</td>\n",
       "      <td>58000</td>\n",
       "    </tr>\n",
       "    <tr>\n",
       "      <th>3</th>\n",
       "      <td>4</td>\n",
       "      <td>1458.780</td>\n",
       "      <td>2</td>\n",
       "      <td>7</td>\n",
       "      <td>3</td>\n",
       "      <td>2</td>\n",
       "      <td>2</td>\n",
       "      <td>45000</td>\n",
       "    </tr>\n",
       "    <tr>\n",
       "      <th>4</th>\n",
       "      <td>5</td>\n",
       "      <td>967.776</td>\n",
       "      <td>11</td>\n",
       "      <td>14</td>\n",
       "      <td>3</td>\n",
       "      <td>2</td>\n",
       "      <td>2</td>\n",
       "      <td>45000</td>\n",
       "    </tr>\n",
       "    <tr>\n",
       "      <th>5</th>\n",
       "      <td>6</td>\n",
       "      <td>1127.886</td>\n",
       "      <td>11</td>\n",
       "      <td>12</td>\n",
       "      <td>4</td>\n",
       "      <td>2</td>\n",
       "      <td>2</td>\n",
       "      <td>148000</td>\n",
       "    </tr>\n",
       "    <tr>\n",
       "      <th>6</th>\n",
       "      <td>7</td>\n",
       "      <td>1352.040</td>\n",
       "      <td>5</td>\n",
       "      <td>7</td>\n",
       "      <td>3</td>\n",
       "      <td>2</td>\n",
       "      <td>1</td>\n",
       "      <td>58000</td>\n",
       "    </tr>\n",
       "    <tr>\n",
       "      <th>7</th>\n",
       "      <td>8</td>\n",
       "      <td>757.854</td>\n",
       "      <td>5</td>\n",
       "      <td>14</td>\n",
       "      <td>1</td>\n",
       "      <td>0</td>\n",
       "      <td>1</td>\n",
       "      <td>48000</td>\n",
       "    </tr>\n",
       "    <tr>\n",
       "      <th>8</th>\n",
       "      <td>9</td>\n",
       "      <td>1152.792</td>\n",
       "      <td>10</td>\n",
       "      <td>12</td>\n",
       "      <td>3</td>\n",
       "      <td>2</td>\n",
       "      <td>2</td>\n",
       "      <td>45000</td>\n",
       "    </tr>\n",
       "    <tr>\n",
       "      <th>9</th>\n",
       "      <td>10</td>\n",
       "      <td>1423.200</td>\n",
       "      <td>4</td>\n",
       "      <td>5</td>\n",
       "      <td>4</td>\n",
       "      <td>2</td>\n",
       "      <td>2</td>\n",
       "      <td>65000</td>\n",
       "    </tr>\n",
       "  </tbody>\n",
       "</table>\n",
       "</div>"
      ],
      "text/plain": [
       "   Unnamed: 0      Sqft  Floor  TotalFloor  Bedroom  Living.Room  Bathroom  \\\n",
       "0           1  1177.698      2           7        2            2         2   \n",
       "1           2  2134.800      5           7        4            2         2   \n",
       "2           3  1138.560      5           7        2            2         1   \n",
       "3           4  1458.780      2           7        3            2         2   \n",
       "4           5   967.776     11          14        3            2         2   \n",
       "5           6  1127.886     11          12        4            2         2   \n",
       "6           7  1352.040      5           7        3            2         1   \n",
       "7           8   757.854      5          14        1            0         1   \n",
       "8           9  1152.792     10          12        3            2         2   \n",
       "9          10  1423.200      4           5        4            2         2   \n",
       "\n",
       "    Price  \n",
       "0   62000  \n",
       "1   78000  \n",
       "2   58000  \n",
       "3   45000  \n",
       "4   45000  \n",
       "5  148000  \n",
       "6   58000  \n",
       "7   48000  \n",
       "8   45000  \n",
       "9   65000  "
      ]
     },
     "execution_count": 77,
     "metadata": {},
     "output_type": "execute_result"
    }
   ],
   "source": [
    "data=pd.read_csv(r\"C:\\Users\\Praveen\\OneDrive\\Desktop\\edyoda\\Machine Learning\\Data sets\\house_rental_data.csv.txt\")\n",
    "data.head(10)"
   ]
  },
  {
   "cell_type": "code",
   "execution_count": 78,
   "id": "fcfb7f7c",
   "metadata": {},
   "outputs": [
    {
     "data": {
      "text/plain": [
       "(645, 8)"
      ]
     },
     "execution_count": 78,
     "metadata": {},
     "output_type": "execute_result"
    }
   ],
   "source": [
    "data.shape"
   ]
  },
  {
   "cell_type": "code",
   "execution_count": 79,
   "id": "f939ca0c",
   "metadata": {},
   "outputs": [
    {
     "name": "stdout",
     "output_type": "stream",
     "text": [
      "<class 'pandas.core.frame.DataFrame'>\n",
      "RangeIndex: 645 entries, 0 to 644\n",
      "Data columns (total 8 columns):\n",
      " #   Column       Non-Null Count  Dtype  \n",
      "---  ------       --------------  -----  \n",
      " 0   Unnamed: 0   645 non-null    int64  \n",
      " 1   Sqft         645 non-null    float64\n",
      " 2   Floor        645 non-null    int64  \n",
      " 3   TotalFloor   645 non-null    int64  \n",
      " 4   Bedroom      645 non-null    int64  \n",
      " 5   Living.Room  645 non-null    int64  \n",
      " 6   Bathroom     645 non-null    int64  \n",
      " 7   Price        645 non-null    int64  \n",
      "dtypes: float64(1), int64(7)\n",
      "memory usage: 40.4 KB\n"
     ]
    }
   ],
   "source": [
    "data.info()"
   ]
  },
  {
   "cell_type": "code",
   "execution_count": 80,
   "id": "1f9b4623",
   "metadata": {},
   "outputs": [
    {
     "data": {
      "text/plain": [
       "<AxesSubplot:xlabel='Sqft', ylabel='Price'>"
      ]
     },
     "execution_count": 80,
     "metadata": {},
     "output_type": "execute_result"
    },
    {
     "data": {
      "image/png": "[encoded data removed]",
      "text/plain": [
       "<Figure size 432x288 with 1 Axes>"
      ]
     },
     "metadata": {
      "needs_background": "light"
     },
     "output_type": "display_data"
    }
   ],
   "source": [
    "sns.scatterplot(x='Sqft',y='Price',data=data)\n"
   ]
  },
  {
   "cell_type": "code",
   "execution_count": 81,
   "id": "d528727b",
   "metadata": {
    "scrolled": true
   },
   "outputs": [
    {
     "data": {
      "text/plain": [
       "<AxesSubplot:>"
      ]
     },
     "execution_count": 81,
     "metadata": {},
     "output_type": "execute_result"
    },
    {
     "data": {
      "image/png": "[encoded data removed]",
      "text/plain": [
       "<Figure size 432x288 with 2 Axes>"
      ]
     },
     "metadata": {
      "needs_background": "light"
     },
     "output_type": "display_data"
    }
   ],
   "source": [
    "#corelation\n",
    "corr=data.corr()\n",
    "sns.heatmap(corr,annot=True)"
   ]
  },
  {
   "cell_type": "code",
   "execution_count": 82,
   "id": "8dd542fb",
   "metadata": {},
   "outputs": [],
   "source": [
    "x=pd.DataFrame(data['Sqft'])\n",
    "y=pd.DataFrame(data['Price'])"
   ]
  },
  {
   "cell_type": "code",
   "execution_count": 83,
   "id": "d768a516",
   "metadata": {},
   "outputs": [],
   "source": [
    "from sklearn.model_selection import train_test_split\n",
    "x_train,x_test,y_train,y_test=train_test_split(x,y,test_size=0.25,random_state=0)"
   ]
  },
  {
   "cell_type": "code",
   "execution_count": 84,
   "id": "a9a38114",
   "metadata": {},
   "outputs": [
    {
     "data": {
      "text/plain": [
       "((162, 1), (483, 1))"
      ]
     },
     "execution_count": 84,
     "metadata": {},
     "output_type": "execute_result"
    }
   ],
   "source": [
    "x_test.shape,x_train.shape"
   ]
  },
  {
   "cell_type": "code",
   "execution_count": 85,
   "id": "4a9ab9f6",
   "metadata": {},
   "outputs": [],
   "source": [
    "from sklearn.linear_model import LinearRegression\n",
    "lr=LinearRegression()"
   ]
  },
  {
   "cell_type": "code",
   "execution_count": 86,
   "id": "922d0a52",
   "metadata": {},
   "outputs": [
    {
     "data": {
      "text/plain": [
       "LinearRegression()"
      ]
     },
     "execution_count": 86,
     "metadata": {},
     "output_type": "execute_result"
    }
   ],
   "source": [
    "lr.fit(x_train,y_train)"
   ]
  },
  {
   "cell_type": "code",
   "execution_count": 87,
   "id": "7763255a",
   "metadata": {
    "scrolled": true
   },
   "outputs": [
    {
     "data": {
      "text/plain": [
       "array([[101984.40544898],\n",
       "       [ 41588.18908757],\n",
       "       [ 68766.4864502 ],\n",
       "       [ 85649.97420578],\n",
       "       [ 28822.62517481],\n",
       "       [112965.53569651],\n",
       "       [125593.83548117],\n",
       "       [ 71786.29726827],\n",
       "       [ 60805.16702074],\n",
       "       [ 36783.94460427],\n",
       "       [ 52020.26282272],\n",
       "       [ 30607.05884004],\n",
       "       [ 18253.28731157],\n",
       "       [ 56824.50730601],\n",
       "       [ 44607.99990564],\n",
       "       [ 88532.52089575],\n",
       "       [ 45568.8488023 ],\n",
       "       [ 31705.17186479],\n",
       "       [ 67668.37342545],\n",
       "       [ 56687.24317792],\n",
       "       [ 30607.05884004],\n",
       "       [165125.90437227],\n",
       "       [ 82355.63513152],\n",
       "       [ 76041.48523919],\n",
       "       [ 70825.44837161],\n",
       "       [ 85649.97420578],\n",
       "       [ 73845.25918968],\n",
       "       [ 56961.77143411],\n",
       "       [ 72198.08965255],\n",
       "       [ 59432.5257398 ],\n",
       "       [ 89630.63392051],\n",
       "       [ 20998.56987345],\n",
       "       [ 82767.4275158 ],\n",
       "       [106102.3292918 ],\n",
       "       [ 56687.24317792],\n",
       "       [ 36646.68047618],\n",
       "       [ 71786.29726827],\n",
       "       [ 76041.48523919],\n",
       "       [ 55589.13015317],\n",
       "       [ 60530.63876456],\n",
       "       [ 56275.45079364],\n",
       "       [ 45706.11293039],\n",
       "       [ 82355.63513152],\n",
       "       [ 57922.62033077],\n",
       "       [ 82904.6916439 ],\n",
       "       [ 48176.86723608],\n",
       "       [ 69727.33534686],\n",
       "       [ 33352.34140192],\n",
       "       [225384.85660559],\n",
       "       [ 70001.86360305],\n",
       "       [147281.56772004],\n",
       "       [ 68903.7505783 ],\n",
       "       [ 30607.05884004],\n",
       "       [ 37470.26524474],\n",
       "       [ 61628.75178931],\n",
       "       [ 76041.48523919],\n",
       "       [ 85512.71007768],\n",
       "       [ 59157.99748361],\n",
       "       [108847.61185368],\n",
       "       [ 80022.14495392],\n",
       "       [ 82767.4275158 ],\n",
       "       [ 87708.93612719],\n",
       "       [ 30607.05884004],\n",
       "       [ 26489.13499721],\n",
       "       [ 76453.27762347],\n",
       "       [ 97866.48160615],\n",
       "       [ 31705.17186479],\n",
       "       [ 45843.37705848],\n",
       "       [ 36097.6239638 ],\n",
       "       [ 20998.56987345],\n",
       "       [ 29920.73819957],\n",
       "       [ 64099.506095  ],\n",
       "       [ 67668.37342545],\n",
       "       [ 70001.86360305],\n",
       "       [ 76178.74936728],\n",
       "       [ 28959.88930291],\n",
       "       [ 25116.49371627],\n",
       "       [ 53530.16823176],\n",
       "       [ 85512.71007768],\n",
       "       [ 44333.47164945],\n",
       "       [ 63550.44958263],\n",
       "       [ 33901.3979143 ],\n",
       "       [ 87434.407871  ],\n",
       "       [ 27861.77627816],\n",
       "       [ 58059.88445886],\n",
       "       [ 55589.13015317],\n",
       "       [ 77276.86239204],\n",
       "       [ 85649.97420578],\n",
       "       [ 51196.67805416],\n",
       "       [ 29508.94581528],\n",
       "       [ 69041.01470639],\n",
       "       [ 85512.71007768],\n",
       "       [ 85512.71007768],\n",
       "       [ 48176.86723608],\n",
       "       [ 49137.71613274],\n",
       "       [ 27861.77627816],\n",
       "       [ 64923.09086357],\n",
       "       [125593.83548117],\n",
       "       [ 49000.45200465],\n",
       "       [ 47627.81072371],\n",
       "       [ 27861.77627816],\n",
       "       [ 85512.71007768],\n",
       "       [ 51196.67805416],\n",
       "       [109945.72487844],\n",
       "       [ 61903.2800455 ],\n",
       "       [ 34450.45442667],\n",
       "       [ 45706.11293039],\n",
       "       [ 48451.39549227],\n",
       "       [ 35685.83157952],\n",
       "       [ 73158.93854921],\n",
       "       [ 32254.22837717],\n",
       "       [ 92375.91648239],\n",
       "       [ 83453.74815627],\n",
       "       [ 48039.60310799],\n",
       "       [ 55451.86602507],\n",
       "       [ 70825.44837161],\n",
       "       [ 78649.50367298],\n",
       "       [ 51608.47043844],\n",
       "       [ 69041.01470639],\n",
       "       [ 61628.75178931],\n",
       "       [ 35411.30332333],\n",
       "       [ 76041.48523919],\n",
       "       [ 32803.28488954],\n",
       "       [ 56549.97904983],\n",
       "       [ 20449.51336107],\n",
       "       [ 80571.2014663 ],\n",
       "       [119828.74210121],\n",
       "       [ 36372.15221999],\n",
       "       [126142.89199354],\n",
       "       [ 48039.60310799],\n",
       "       [ 45568.8488023 ],\n",
       "       [ 85649.97420578],\n",
       "       [117495.25192361],\n",
       "       [ 48863.18787656],\n",
       "       [ 75904.2211111 ],\n",
       "       [ 55314.60189698],\n",
       "       [ 84277.33292484],\n",
       "       [ 56549.97904983],\n",
       "       [ 46941.49008324],\n",
       "       [ 62589.60068597],\n",
       "       [ 62177.80830168],\n",
       "       [ 53804.69648794],\n",
       "       [ 44333.47164945],\n",
       "       [ 56412.71492173],\n",
       "       [ 21273.09812964],\n",
       "       [ 63001.39307025],\n",
       "       [ 96082.04794093],\n",
       "       [109945.72487844],\n",
       "       [ 55314.60189698],\n",
       "       [ 62589.60068597],\n",
       "       [ 17978.75905538],\n",
       "       [ 24018.38069152],\n",
       "       [ 62726.86481406],\n",
       "       [ 37195.73698856],\n",
       "       [ 46666.96182705],\n",
       "       [ 60256.11050837],\n",
       "       [ 41176.39670328],\n",
       "       [119279.68558884],\n",
       "       [ 69041.01470639],\n",
       "       [ 80022.14495392],\n",
       "       [ 37058.47286046],\n",
       "       [ 37470.26524474]])"
      ]
     },
     "execution_count": 87,
     "metadata": {},
     "output_type": "execute_result"
    }
   ],
   "source": [
    "y_pred=lr.predict(x_test)\n",
    "y_pred"
   ]
  },
  {
   "cell_type": "code",
   "execution_count": 96,
   "id": "ba36d195",
   "metadata": {
    "scrolled": true
   },
   "outputs": [
    {
     "data": {
      "text/plain": [
       "array([3154.23322121])"
      ]
     },
     "execution_count": 96,
     "metadata": {},
     "output_type": "execute_result"
    }
   ],
   "source": [
    "lr.intercept_"
   ]
  },
  {
   "cell_type": "code",
   "execution_count": 98,
   "id": "31fb7335",
   "metadata": {},
   "outputs": [
    {
     "data": {
      "text/plain": [
       "array([[38.57901296]])"
      ]
     },
     "execution_count": 98,
     "metadata": {},
     "output_type": "execute_result"
    }
   ],
   "source": [
    "lr.coef_"
   ]
  },
  {
   "cell_type": "code",
   "execution_count": 88,
   "id": "3d80da00",
   "metadata": {
    "scrolled": true
   },
   "outputs": [
    {
     "data": {
      "text/plain": [
       "0.6885081723578799"
      ]
     },
     "execution_count": 88,
     "metadata": {},
     "output_type": "execute_result"
    }
   ],
   "source": [
    "lr.score(x_train,y_train)"
   ]
  },
  {
   "cell_type": "code",
   "execution_count": null,
   "id": "f57fedd7",
   "metadata": {},
   "outputs": [],
   "source": [
    "#this is best fit"
   ]
  },
  {
   "cell_type": "code",
   "execution_count": 89,
   "id": "481c6e24",
   "metadata": {},
   "outputs": [
    {
     "data": {
      "text/plain": [
       "0.6600024181377062"
      ]
     },
     "execution_count": 89,
     "metadata": {},
     "output_type": "execute_result"
    }
   ],
   "source": [
    "lr.score(x_test,y_test)"
   ]
  },
  {
   "cell_type": "code",
   "execution_count": 91,
   "id": "085f2ad0",
   "metadata": {},
   "outputs": [
    {
     "data": {
      "text/plain": [
       "0.5101830775225054"
      ]
     },
     "execution_count": 91,
     "metadata": {},
     "output_type": "execute_result"
    }
   ],
   "source": [
    "from sklearn.metrics import r2_score\n",
    "r2_score(y_pred,y_test)"
   ]
  },
  {
   "cell_type": "code",
   "execution_count": 92,
   "id": "b25f3f27",
   "metadata": {},
   "outputs": [
    {
     "data": {
      "text/plain": [
       "431034180.0574205"
      ]
     },
     "execution_count": 92,
     "metadata": {},
     "output_type": "execute_result"
    }
   ],
   "source": [
    "from sklearn.metrics import mean_squared_error\n",
    "mean_squared_error(y_pred,y_test)"
   ]
  },
  {
   "cell_type": "code",
   "execution_count": null,
   "id": "6e0314d7",
   "metadata": {},
   "outputs": [],
   "source": []
  }
 ],
 "metadata": {
  "kernelspec": {
   "display_name": "Python 3 (ipykernel)",
   "language": "python",
   "name": "python3"
  },
  "language_info": {
   "codemirror_mode": {
    "name": "ipython",
    "version": 3
   },
   "file_extension": ".py",
   "mimetype": "text/x-python",
   "name": "python",
   "nbconvert_exporter": "python",
   "pygments_lexer": "ipython3",
   "version": "3.9.12"
  }
 },
 "nbformat": 4,
 "nbformat_minor": 5
}
